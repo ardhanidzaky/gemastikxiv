{
  "nbformat": 4,
  "nbformat_minor": 0,
  "metadata": {
    "colab": {
      "name": "GEMASTIK-ScikitLearnModel",
      "provenance": [],
      "collapsed_sections": [
        "dPLWO-YoOC4u"
      ]
    },
    "kernelspec": {
      "name": "python3",
      "display_name": "Python 3"
    },
    "language_info": {
      "name": "python"
    }
  },
  "cells": [
    {
      "cell_type": "markdown",
      "metadata": {
        "id": "k723et23ub3X"
      },
      "source": [
        "# Klasifikasi teks dengan scikit-learn\n",
        "**Galuh (galuh.tunggadewi@gmail.com)**\n",
        "\n",
        "Di *workshop* ini, kita akan belajar gimana sih caranya membuat sebuah sistem klasifikasi teks dengan menggunakan scikit-learn."
      ]
    },
    {
      "cell_type": "markdown",
      "metadata": {
        "id": "bxG-2bJm_tql"
      },
      "source": [
        "## Instalasi"
      ]
    },
    {
      "cell_type": "code",
      "metadata": {
        "id": "WdMBycFBzwGq"
      },
      "source": [
        "#@title {display-mode: \"form\"} \n",
        "%%capture\n",
        "!pip install PySastrawi"
      ],
      "execution_count": null,
      "outputs": []
    },
    {
      "cell_type": "code",
      "metadata": {
        "id": "9KpZY7NaudAw"
      },
      "source": [
        "#@title {display-mode: \"form\"} \n",
        "\n",
        "from sklearn.metrics import confusion_matrix, classification_report \n",
        "import seaborn as sns \n",
        "import matplotlib.pyplot as plt\n",
        "import numpy as np\n",
        "import pandas as pd\n",
        "pd.set_option('display.max_colwidth', None) # set column width to maximum so we can see the entire text\n",
        "import string\n",
        "from string import digits\n",
        "import re\n",
        "\n",
        "from stopwords import STOPWORDS\n",
        "from Sastrawi.Stemmer.StemmerFactory import StemmerFactory"
      ],
      "execution_count": null,
      "outputs": []
    },
    {
      "cell_type": "code",
      "metadata": {
        "id": "vFk2VdZ6uelr"
      },
      "source": [
        "df_train = pd.read_csv('train (1).csv')\n",
        "df_test = pd.read_csv('test (1).csv')"
      ],
      "execution_count": null,
      "outputs": []
    },
    {
      "cell_type": "code",
      "metadata": {
        "colab": {
          "base_uri": "https://localhost:8080/",
          "height": 534
        },
        "id": "nlmaQKMMHN8M",
        "outputId": "ae64d0a6-1a6d-4bd2-d894-f5542b2e1391"
      },
      "source": [
        "df_train"
      ],
      "execution_count": null,
      "outputs": [
        {
          "output_type": "execute_result",
          "data": {
            "text/html": [
              "<div>\n",
              "<style scoped>\n",
              "    .dataframe tbody tr th:only-of-type {\n",
              "        vertical-align: middle;\n",
              "    }\n",
              "\n",
              "    .dataframe tbody tr th {\n",
              "        vertical-align: top;\n",
              "    }\n",
              "\n",
              "    .dataframe thead th {\n",
              "        text-align: right;\n",
              "    }\n",
              "</style>\n",
              "<table border=\"1\" class=\"dataframe\">\n",
              "  <thead>\n",
              "    <tr style=\"text-align: right;\">\n",
              "      <th></th>\n",
              "      <th>text</th>\n",
              "      <th>context</th>\n",
              "      <th>intent</th>\n",
              "      <th>sentiment</th>\n",
              "    </tr>\n",
              "  </thead>\n",
              "  <tbody>\n",
              "    <tr>\n",
              "      <th>0</th>\n",
              "      <td>agak miris masih banyak yg ga mau di vaksin  terlebih malah keluarga sendiri   &lt;URL&gt;</td>\n",
              "      <td>1.0</td>\n",
              "      <td>3.0</td>\n",
              "      <td>1.0</td>\n",
              "    </tr>\n",
              "    <tr>\n",
              "      <th>1</th>\n",
              "      <td>malu banget sholat ied pake ada acara mau pingsan segala  takut di sangka covid</td>\n",
              "      <td>3.0</td>\n",
              "      <td>4.0</td>\n",
              "      <td>1.0</td>\n",
              "    </tr>\n",
              "    <tr>\n",
              "      <th>2</th>\n",
              "      <td>&lt;USERNAME&gt; &lt;USERNAME&gt; &lt;USERNAME&gt; &lt;USERNAME&gt; &lt;USERNAME&gt; memang ga kena covid pun bisa mati tp ya ikhtiar supaya ga mempersulit diri sendiri dan org sekitar karena kalo wabahnya tersebar ya zolim kan  hadist nabi pun kalo ada wabah di wilayahmu jgn pergi diamlah di tmptmu</td>\n",
              "      <td>2.0</td>\n",
              "      <td>0.0</td>\n",
              "      <td>1.0</td>\n",
              "    </tr>\n",
              "    <tr>\n",
              "      <th>3</th>\n",
              "      <td>terus semangat  jaga jarak dan pakai masker karena covid  &lt;NUM&gt; masih ada di sekitar kita ya</td>\n",
              "      <td>3.0</td>\n",
              "      <td>4.0</td>\n",
              "      <td>2.0</td>\n",
              "    </tr>\n",
              "    <tr>\n",
              "      <th>4</th>\n",
              "      <td>jadi wadm gak lulus ya ginii  &lt;URL&gt;</td>\n",
              "      <td>3.0</td>\n",
              "      <td>4.0</td>\n",
              "      <td>2.0</td>\n",
              "    </tr>\n",
              "    <tr>\n",
              "      <th>...</th>\n",
              "      <td>...</td>\n",
              "      <td>...</td>\n",
              "      <td>...</td>\n",
              "      <td>...</td>\n",
              "    </tr>\n",
              "    <tr>\n",
              "      <th>9035</th>\n",
              "      <td>&lt;USERNAME&gt; eh  penghianat tukang gosok gak usah ikutan komen ya  gak ada urusanmu dengan soal ini  vaksin gratis tetap jalan  yang mau cepat dan mampu bayar lebih  silakan vaksin mandiri  udah kekurangan gorengan ya  sana bilang bohir loe</td>\n",
              "      <td>1.0</td>\n",
              "      <td>1.0</td>\n",
              "      <td>1.0</td>\n",
              "    </tr>\n",
              "    <tr>\n",
              "      <th>9036</th>\n",
              "      <td>ibuk    mbak mau ibuk masakin apa  walau udah punya kerjaan dan bertahun  tahun merantau  masih aja pertanyaannya sama kayak jaman asrama di masa sekolah  i will always be her lil baby no matter how old i am  mom  i miss you  harusnya flight bisa wfh di rumah tapi ppkm ini lho</td>\n",
              "      <td>2.0</td>\n",
              "      <td>0.0</td>\n",
              "      <td>1.0</td>\n",
              "    </tr>\n",
              "    <tr>\n",
              "      <th>9037</th>\n",
              "      <td>&lt;USERNAME&gt; proning  kalau megap  megap hypoxia  d  dimer tinggi  pake terapi oksigen hiperbarik hbot  tetap tenang  &lt;NUM&gt;   &lt;NUM&gt;  &lt;NUM&gt;  pasien corona sembuh  pake   ngga pake susu beruang  ivermectin dll   yg tidak bermanfaat  sembuh  &lt;URL&gt;</td>\n",
              "      <td>3.0</td>\n",
              "      <td>3.0</td>\n",
              "      <td>2.0</td>\n",
              "    </tr>\n",
              "    <tr>\n",
              "      <th>9038</th>\n",
              "      <td>@iimfahima Setuju sekali kak, sedih kadang ketika melihat orang2 terdekat yg katanya beriman tapi masih gak percaya covid yg jelas bisa dibuktikan sungguh sangat meresahkan, g tau lagi harus bagaimana menghadapinya</td>\n",
              "      <td>2.0</td>\n",
              "      <td>0.0</td>\n",
              "      <td>0.0</td>\n",
              "    </tr>\n",
              "    <tr>\n",
              "      <th>9039</th>\n",
              "      <td>jangan bingung buat orang tua di masa ppkm kan ada indihome study lebih gampang cari referensi dan belajar sikecil &lt;URL&gt;</td>\n",
              "      <td>2.0</td>\n",
              "      <td>4.0</td>\n",
              "      <td>0.0</td>\n",
              "    </tr>\n",
              "  </tbody>\n",
              "</table>\n",
              "<p>9040 rows × 4 columns</p>\n",
              "</div>"
            ],
            "text/plain": [
              "                                                                                                                                                                                                                                                                                       text  ...  sentiment\n",
              "0                                                                                                                                                                                                      agak miris masih banyak yg ga mau di vaksin  terlebih malah keluarga sendiri   <URL>  ...        1.0\n",
              "1                                                                                                                                                                                                          malu banget sholat ied pake ada acara mau pingsan segala  takut di sangka covid   ...        1.0\n",
              "2            <USERNAME> <USERNAME> <USERNAME> <USERNAME> <USERNAME> memang ga kena covid pun bisa mati tp ya ikhtiar supaya ga mempersulit diri sendiri dan org sekitar karena kalo wabahnya tersebar ya zolim kan  hadist nabi pun kalo ada wabah di wilayahmu jgn pergi diamlah di tmptmu  ...        1.0\n",
              "3                                                                                                                                                                                              terus semangat  jaga jarak dan pakai masker karena covid  <NUM> masih ada di sekitar kita ya  ...        2.0\n",
              "4                                                                                                                                                                                                                                                       jadi wadm gak lulus ya ginii  <URL>  ...        2.0\n",
              "...                                                                                                                                                                                                                                                                                     ...  ...        ...\n",
              "9035                                       <USERNAME> eh  penghianat tukang gosok gak usah ikutan komen ya  gak ada urusanmu dengan soal ini  vaksin gratis tetap jalan  yang mau cepat dan mampu bayar lebih  silakan vaksin mandiri  udah kekurangan gorengan ya  sana bilang bohir loe    ...        1.0\n",
              "9036  ibuk    mbak mau ibuk masakin apa  walau udah punya kerjaan dan bertahun  tahun merantau  masih aja pertanyaannya sama kayak jaman asrama di masa sekolah  i will always be her lil baby no matter how old i am  mom  i miss you  harusnya flight bisa wfh di rumah tapi ppkm ini lho  ...        1.0\n",
              "9037                                     <USERNAME> proning  kalau megap  megap hypoxia  d  dimer tinggi  pake terapi oksigen hiperbarik hbot  tetap tenang  <NUM>   <NUM>  <NUM>  pasien corona sembuh  pake   ngga pake susu beruang  ivermectin dll   yg tidak bermanfaat  sembuh  <URL>  ...        2.0\n",
              "9038                                                                 @iimfahima Setuju sekali kak, sedih kadang ketika melihat orang2 terdekat yg katanya beriman tapi masih gak percaya covid yg jelas bisa dibuktikan sungguh sangat meresahkan, g tau lagi harus bagaimana menghadapinya  ...        0.0\n",
              "9039                                                                                                                                                               jangan bingung buat orang tua di masa ppkm kan ada indihome study lebih gampang cari referensi dan belajar sikecil <URL>  ...        0.0\n",
              "\n",
              "[9040 rows x 4 columns]"
            ]
          },
          "metadata": {
            "tags": []
          },
          "execution_count": 6
        }
      ]
    },
    {
      "cell_type": "markdown",
      "metadata": {
        "id": "HVt7Z4_fup2q"
      },
      "source": [
        "## Persiapan input"
      ]
    },
    {
      "cell_type": "code",
      "metadata": {
        "id": "obulYMgKsNOC"
      },
      "source": [
        "REGEX_URL = re.compile(\n",
        "    r\"(?:^|(?<![\\w\\/\\.]))\"\n",
        "    # protocol identifier\n",
        "    # r\"(?:(?:https?|ftp)://)\"\n",
        "    r\"(?:(?:https?:\\/\\/|ftp:\\/\\/|www\\d{0,3}\\.))\"\n",
        "    # user:pass authentication\n",
        "    r\"(?:\\S+(?::\\S*)?@)?\" r\"(?:\"\n",
        "    # IP address exclusion\n",
        "    # private & local networks\n",
        "    r\"(?!(?:10|127)(?:\\.\\d{1,3}){3})\"\n",
        "    r\"(?!(?:169\\.254|192\\.168)(?:\\.\\d{1,3}){2})\"\n",
        "    r\"(?!172\\.(?:1[6-9]|2\\d|3[0-1])(?:\\.\\d{1,3}){2})\"\n",
        "    # IP address dotted notation octets\n",
        "    # excludes loopback network 0.0.0.0\n",
        "    # excludes reserved space >= 224.0.0.0\n",
        "    # excludes network & broadcast addresses\n",
        "    # (first & last IP address of each class)\n",
        "    r\"(?:[1-9]\\d?|1\\d\\d|2[01]\\d|22[0-3])\"\n",
        "    r\"(?:\\.(?:1?\\d{1,2}|2[0-4]\\d|25[0-5])){2}\"\n",
        "    r\"(?:\\.(?:[1-9]\\d?|1\\d\\d|2[0-4]\\d|25[0-4]))\"\n",
        "    r\"|\"\n",
        "    # host name\n",
        "    r\"(?:(?:[a-z\\\\u00a1-\\\\uffff0-9]-?)*[a-z\\\\u00a1-\\\\uffff0-9]+)\"\n",
        "    # domain name\n",
        "    r\"(?:\\.(?:[a-z\\\\u00a1-\\\\uffff0-9]-?)*[a-z\\\\u00a1-\\\\uffff0-9]+)*\"\n",
        "    # TLD identifier\n",
        "    r\"(?:\\.(?:[a-z\\\\u00a1-\\\\uffff]{2,}))\" r\"|\" r\"(?:(localhost))\" r\")\"\n",
        "    # port number\n",
        "    r\"(?::\\d{2,5})?\"\n",
        "    # resource path\n",
        "    r\"(?:\\/[^\\)\\]\\}\\s]*)?\",\n",
        "    # r\"(?:$|(?![\\w?!+&\\/\\)]))\",\n",
        "    flags=re.UNICODE | re.IGNORECASE,\n",
        ")\n",
        "\n",
        "REGEX_NUMBER =re.compile(\n",
        "    r\"(?:^|(?<=[^\\w,.]))[+–-]?(([1-9]\\d{0,2}(,\\d{3})+(\\.\\d*)?)|([1-9]\\d{0,2}([ .]\\d{3})+(,\\d*)?)|(\\d*?[.,]\\d+)|\\d+)(?:$|(?=\\b))\"\n",
        ")\n",
        "\n",
        "def replace(text, regex_pattern, replacement):\n",
        "  return regex_pattern.sub(replacement, text)\n",
        "\n",
        "def replace_urls(text, symbol = \"<URL>\"):\n",
        "  return replace(text, REGEX_URL, symbol)\n",
        "\n",
        "def replace_numbers(text, symbol = \"<NUM>\") -> str:\n",
        "  return replace(text, REGEX_NUMBER, symbol)\n",
        "\n",
        "def clean_numbers(text):\n",
        "  return text.translate({ord(k): None for k in digits})\n",
        "\n",
        "def replace_punctuations(\n",
        "        text, symbol = \"<PUNCT>\", exceptions= []\n",
        "    ):\n",
        "    all_punct = [punct for punct in string.punctuation]\n",
        "    punct_to_remove = \"\".join(\n",
        "        [punct for punct in all_punct if punct not in exceptions]\n",
        "    )\n",
        "    result = re.sub(r\"[\" + str(punct_to_remove) + \"]+\\ *\", \" \" + symbol + \" \", text)\n",
        "\n",
        "    return result\n",
        "\n",
        "def remove_stopwords(text):\n",
        "    return ' '.join([word for word in text.split() if word not in STOPWORDS])\n",
        "\n",
        "def replace_words_by_dictionary(text, dictionary):\n",
        "    new_text = []\n",
        "    for word in text.split():\n",
        "        if word in dictionary:\n",
        "            new_text.append(dictionary[word])\n",
        "        else:\n",
        "            new_text.append(word)\n",
        "\n",
        "    return \" \".join(new_text)\n",
        "\n",
        "def stem(text):\n",
        "  factory = StemmerFactory()\n",
        "  stemmer = factory.create_stemmer()\n",
        "\n",
        "  output   = stemmer.stem(text)\n",
        "\n",
        "  return output"
      ],
      "execution_count": null,
      "outputs": []
    },
    {
      "cell_type": "code",
      "metadata": {
        "id": "bkj9uKNaw2NN"
      },
      "source": [
        "df_slang = pd.read_csv(\"slang.csv\")"
      ],
      "execution_count": null,
      "outputs": []
    },
    {
      "cell_type": "code",
      "metadata": {
        "id": "10XVwEauzNDe"
      },
      "source": [
        "dict_slang = df_slang.set_index('word_from')['word_to'].to_dict()"
      ],
      "execution_count": null,
      "outputs": []
    },
    {
      "cell_type": "code",
      "metadata": {
        "id": "zDjyZJwMvpSP"
      },
      "source": [
        "def preprocess(text):\n",
        "\n",
        "  # change slang\n",
        "  text = replace_words_by_dictionary(text, dict_slang)\n",
        "\n",
        "  # remove stopwords\n",
        "  text = remove_stopwords(text)\n",
        "\n",
        "  # stem\n",
        "  text = stem(text)\n",
        "\n",
        "  return text"
      ],
      "execution_count": null,
      "outputs": []
    },
    {
      "cell_type": "code",
      "metadata": {
        "id": "gShwfCwaYKaV"
      },
      "source": [
        "def preprocess_final(text):\n",
        "  # Lowercase\n",
        "  text = text.lower()\n",
        "\n",
        "  # Replace URL with tag\n",
        "  text = replace_urls(text)\n",
        "\n",
        "  # Remove punctuation\n",
        "  text = replace_punctuations(text,  symbol=\"\", exceptions=[\"<\", \">\"])\n",
        "\n",
        "  # change slang\n",
        "  text = replace_words_by_dictionary(text, dict_slang)\n",
        "\n",
        "  # remove stopwords\n",
        "  text = remove_stopwords(text)\n",
        "\n",
        "  # stem\n",
        "  text = stem(text)\n",
        "\n",
        "  # Replace numbers with tag\n",
        "  text = replace_numbers(text)\n",
        "\n",
        "  text = clean_numbers(text)\n",
        "\n",
        "  return text"
      ],
      "execution_count": null,
      "outputs": []
    },
    {
      "cell_type": "code",
      "metadata": {
        "id": "0pzG98j-zhew",
        "colab": {
          "base_uri": "https://localhost:8080/",
          "height": 35
        },
        "outputId": "73699e00-215a-412c-b4b2-38383b5d9a1f"
      },
      "source": [
        "text = \"cari yg seken, murah meriah kualitasnya maS 237329 125rb www.google.com\"\n",
        "preprocess(text)"
      ],
      "execution_count": null,
      "outputs": [
        {
          "output_type": "execute_result",
          "data": {
            "application/vnd.google.colaboratory.intrinsic+json": {
              "type": "string"
            },
            "text/plain": [
              "'cari ken murah riah kualitas mas 237329 125rb www google com'"
            ]
          },
          "metadata": {
            "tags": []
          },
          "execution_count": 12
        }
      ]
    },
    {
      "cell_type": "code",
      "metadata": {
        "id": "_guy1ggUvqyu"
      },
      "source": [
        "df_train[\"Teks_Clean\"] = df_train[\"text\"].apply(preprocess)"
      ],
      "execution_count": null,
      "outputs": []
    },
    {
      "cell_type": "code",
      "metadata": {
        "id": "wXDOSaW3vuuy",
        "colab": {
          "base_uri": "https://localhost:8080/",
          "height": 719
        },
        "outputId": "c0ac4bcc-855f-4f40-f744-69e89abe7e77"
      },
      "source": [
        "df_train"
      ],
      "execution_count": null,
      "outputs": [
        {
          "output_type": "execute_result",
          "data": {
            "text/html": [
              "<div>\n",
              "<style scoped>\n",
              "    .dataframe tbody tr th:only-of-type {\n",
              "        vertical-align: middle;\n",
              "    }\n",
              "\n",
              "    .dataframe tbody tr th {\n",
              "        vertical-align: top;\n",
              "    }\n",
              "\n",
              "    .dataframe thead th {\n",
              "        text-align: right;\n",
              "    }\n",
              "</style>\n",
              "<table border=\"1\" class=\"dataframe\">\n",
              "  <thead>\n",
              "    <tr style=\"text-align: right;\">\n",
              "      <th></th>\n",
              "      <th>text</th>\n",
              "      <th>context</th>\n",
              "      <th>intent</th>\n",
              "      <th>sentiment</th>\n",
              "      <th>Teks_Clean</th>\n",
              "    </tr>\n",
              "  </thead>\n",
              "  <tbody>\n",
              "    <tr>\n",
              "      <th>0</th>\n",
              "      <td>agak miris masih banyak yg ga mau di vaksin  terlebih malah keluarga sendiri   &lt;URL&gt;</td>\n",
              "      <td>1.0</td>\n",
              "      <td>3.0</td>\n",
              "      <td>1.0</td>\n",
              "      <td>miris vaksin keluarga url</td>\n",
              "    </tr>\n",
              "    <tr>\n",
              "      <th>1</th>\n",
              "      <td>malu banget sholat ied pake ada acara mau pingsan segala  takut di sangka covid</td>\n",
              "      <td>3.0</td>\n",
              "      <td>4.0</td>\n",
              "      <td>1.0</td>\n",
              "      <td>malu banget sholat ied pakai acara pingsan takut sangka covid</td>\n",
              "    </tr>\n",
              "    <tr>\n",
              "      <th>2</th>\n",
              "      <td>&lt;USERNAME&gt; &lt;USERNAME&gt; &lt;USERNAME&gt; &lt;USERNAME&gt; &lt;USERNAME&gt; memang ga kena covid pun bisa mati tp ya ikhtiar supaya ga mempersulit diri sendiri dan org sekitar karena kalo wabahnya tersebar ya zolim kan  hadist nabi pun kalo ada wabah di wilayahmu jgn pergi diamlah di tmptmu</td>\n",
              "      <td>2.0</td>\n",
              "      <td>0.0</td>\n",
              "      <td>1.0</td>\n",
              "      <td>username username username username username kena covid mati ya ikhtiar sulit orang kalo wabah sebar ya zolim hadist nabi kalo wabah wilayah pergi diam tmptmu</td>\n",
              "    </tr>\n",
              "    <tr>\n",
              "      <th>3</th>\n",
              "      <td>terus semangat  jaga jarak dan pakai masker karena covid  &lt;NUM&gt; masih ada di sekitar kita ya</td>\n",
              "      <td>3.0</td>\n",
              "      <td>4.0</td>\n",
              "      <td>2.0</td>\n",
              "      <td>semangat jaga jarak pakai masker covid num ya</td>\n",
              "    </tr>\n",
              "    <tr>\n",
              "      <th>4</th>\n",
              "      <td>jadi wadm gak lulus ya ginii  &lt;URL&gt;</td>\n",
              "      <td>3.0</td>\n",
              "      <td>4.0</td>\n",
              "      <td>2.0</td>\n",
              "      <td>wadm lulus ya ginii url</td>\n",
              "    </tr>\n",
              "    <tr>\n",
              "      <th>...</th>\n",
              "      <td>...</td>\n",
              "      <td>...</td>\n",
              "      <td>...</td>\n",
              "      <td>...</td>\n",
              "      <td>...</td>\n",
              "    </tr>\n",
              "    <tr>\n",
              "      <th>9035</th>\n",
              "      <td>&lt;USERNAME&gt; eh  penghianat tukang gosok gak usah ikutan komen ya  gak ada urusanmu dengan soal ini  vaksin gratis tetap jalan  yang mau cepat dan mampu bayar lebih  silakan vaksin mandiri  udah kekurangan gorengan ya  sana bilang bohir loe</td>\n",
              "      <td>1.0</td>\n",
              "      <td>1.0</td>\n",
              "      <td>1.0</td>\n",
              "      <td>username eh penghianat tukang gosok ikut komen ya urus vaksin gratis jalan cepat bayar sila vaksin mandiri udah kurang goreng ya bilang bohir loe</td>\n",
              "    </tr>\n",
              "    <tr>\n",
              "      <th>9036</th>\n",
              "      <td>ibuk    mbak mau ibuk masakin apa  walau udah punya kerjaan dan bertahun  tahun merantau  masih aja pertanyaannya sama kayak jaman asrama di masa sekolah  i will always be her lil baby no matter how old i am  mom  i miss you  harusnya flight bisa wfh di rumah tapi ppkm ini lho</td>\n",
              "      <td>2.0</td>\n",
              "      <td>0.0</td>\n",
              "      <td>1.0</td>\n",
              "      <td>ibuk mbak ibuk masakin udah kerja tahun rantau aja tanya kayak jaman asrama sekolah i will always be her lil baby no matter how old i am mom i miss you flight wfh rumah ppkm lho</td>\n",
              "    </tr>\n",
              "    <tr>\n",
              "      <th>9037</th>\n",
              "      <td>&lt;USERNAME&gt; proning  kalau megap  megap hypoxia  d  dimer tinggi  pake terapi oksigen hiperbarik hbot  tetap tenang  &lt;NUM&gt;   &lt;NUM&gt;  &lt;NUM&gt;  pasien corona sembuh  pake   ngga pake susu beruang  ivermectin dll   yg tidak bermanfaat  sembuh  &lt;URL&gt;</td>\n",
              "      <td>3.0</td>\n",
              "      <td>3.0</td>\n",
              "      <td>2.0</td>\n",
              "      <td>username proning megap megap hypoxia dimer pakai terapi oksigen hiperbarik hbot tenang num num num pasien corona sembuh pakai ngga pakai susu beruang ivermectin dll manfaat sembuh url</td>\n",
              "    </tr>\n",
              "    <tr>\n",
              "      <th>9038</th>\n",
              "      <td>@iimfahima Setuju sekali kak, sedih kadang ketika melihat orang2 terdekat yg katanya beriman tapi masih gak percaya covid yg jelas bisa dibuktikan sungguh sangat meresahkan, g tau lagi harus bagaimana menghadapinya</td>\n",
              "      <td>2.0</td>\n",
              "      <td>0.0</td>\n",
              "      <td>0.0</td>\n",
              "      <td>iimfahima tuju kak sedih kadang orang2 dekat iman percaya covid bukti sungguh resah tau hadap</td>\n",
              "    </tr>\n",
              "    <tr>\n",
              "      <th>9039</th>\n",
              "      <td>jangan bingung buat orang tua di masa ppkm kan ada indihome study lebih gampang cari referensi dan belajar sikecil &lt;URL&gt;</td>\n",
              "      <td>2.0</td>\n",
              "      <td>4.0</td>\n",
              "      <td>0.0</td>\n",
              "      <td>bingung orang tua ppkm indihome study gampang cari referensi ajar sikecil url</td>\n",
              "    </tr>\n",
              "  </tbody>\n",
              "</table>\n",
              "<p>9040 rows × 5 columns</p>\n",
              "</div>"
            ],
            "text/plain": [
              "                                                                                                                                                                                                                                                                                       text  ...                                                                                                                                                                               Teks_Clean\n",
              "0                                                                                                                                                                                                      agak miris masih banyak yg ga mau di vaksin  terlebih malah keluarga sendiri   <URL>  ...                                                                                                                                                                miris vaksin keluarga url\n",
              "1                                                                                                                                                                                                          malu banget sholat ied pake ada acara mau pingsan segala  takut di sangka covid   ...                                                                                                                            malu banget sholat ied pakai acara pingsan takut sangka covid\n",
              "2            <USERNAME> <USERNAME> <USERNAME> <USERNAME> <USERNAME> memang ga kena covid pun bisa mati tp ya ikhtiar supaya ga mempersulit diri sendiri dan org sekitar karena kalo wabahnya tersebar ya zolim kan  hadist nabi pun kalo ada wabah di wilayahmu jgn pergi diamlah di tmptmu  ...                           username username username username username kena covid mati ya ikhtiar sulit orang kalo wabah sebar ya zolim hadist nabi kalo wabah wilayah pergi diam tmptmu\n",
              "3                                                                                                                                                                                              terus semangat  jaga jarak dan pakai masker karena covid  <NUM> masih ada di sekitar kita ya  ...                                                                                                                                            semangat jaga jarak pakai masker covid num ya\n",
              "4                                                                                                                                                                                                                                                       jadi wadm gak lulus ya ginii  <URL>  ...                                                                                                                                                                  wadm lulus ya ginii url\n",
              "...                                                                                                                                                                                                                                                                                     ...  ...                                                                                                                                                                                      ...\n",
              "9035                                       <USERNAME> eh  penghianat tukang gosok gak usah ikutan komen ya  gak ada urusanmu dengan soal ini  vaksin gratis tetap jalan  yang mau cepat dan mampu bayar lebih  silakan vaksin mandiri  udah kekurangan gorengan ya  sana bilang bohir loe    ...                                        username eh penghianat tukang gosok ikut komen ya urus vaksin gratis jalan cepat bayar sila vaksin mandiri udah kurang goreng ya bilang bohir loe\n",
              "9036  ibuk    mbak mau ibuk masakin apa  walau udah punya kerjaan dan bertahun  tahun merantau  masih aja pertanyaannya sama kayak jaman asrama di masa sekolah  i will always be her lil baby no matter how old i am  mom  i miss you  harusnya flight bisa wfh di rumah tapi ppkm ini lho  ...        ibuk mbak ibuk masakin udah kerja tahun rantau aja tanya kayak jaman asrama sekolah i will always be her lil baby no matter how old i am mom i miss you flight wfh rumah ppkm lho\n",
              "9037                                     <USERNAME> proning  kalau megap  megap hypoxia  d  dimer tinggi  pake terapi oksigen hiperbarik hbot  tetap tenang  <NUM>   <NUM>  <NUM>  pasien corona sembuh  pake   ngga pake susu beruang  ivermectin dll   yg tidak bermanfaat  sembuh  <URL>  ...  username proning megap megap hypoxia dimer pakai terapi oksigen hiperbarik hbot tenang num num num pasien corona sembuh pakai ngga pakai susu beruang ivermectin dll manfaat sembuh url\n",
              "9038                                                                 @iimfahima Setuju sekali kak, sedih kadang ketika melihat orang2 terdekat yg katanya beriman tapi masih gak percaya covid yg jelas bisa dibuktikan sungguh sangat meresahkan, g tau lagi harus bagaimana menghadapinya  ...                                                                                            iimfahima tuju kak sedih kadang orang2 dekat iman percaya covid bukti sungguh resah tau hadap\n",
              "9039                                                                                                                                                               jangan bingung buat orang tua di masa ppkm kan ada indihome study lebih gampang cari referensi dan belajar sikecil <URL>  ...                                                                                                            bingung orang tua ppkm indihome study gampang cari referensi ajar sikecil url\n",
              "\n",
              "[9040 rows x 5 columns]"
            ]
          },
          "metadata": {
            "tags": []
          },
          "execution_count": 14
        }
      ]
    },
    {
      "cell_type": "code",
      "metadata": {
        "id": "6eV7663pvyqi",
        "colab": {
          "base_uri": "https://localhost:8080/",
          "height": 304
        },
        "outputId": "f64779f6-c1bd-486d-9e8b-12594e1b4890"
      },
      "source": [
        "df_test.sample(5)"
      ],
      "execution_count": null,
      "outputs": [
        {
          "output_type": "execute_result",
          "data": {
            "text/html": [
              "<div>\n",
              "<style scoped>\n",
              "    .dataframe tbody tr th:only-of-type {\n",
              "        vertical-align: middle;\n",
              "    }\n",
              "\n",
              "    .dataframe tbody tr th {\n",
              "        vertical-align: top;\n",
              "    }\n",
              "\n",
              "    .dataframe thead th {\n",
              "        text-align: right;\n",
              "    }\n",
              "</style>\n",
              "<table border=\"1\" class=\"dataframe\">\n",
              "  <thead>\n",
              "    <tr style=\"text-align: right;\">\n",
              "      <th></th>\n",
              "      <th>text</th>\n",
              "      <th>context</th>\n",
              "      <th>intent</th>\n",
              "      <th>sentiment</th>\n",
              "    </tr>\n",
              "  </thead>\n",
              "  <tbody>\n",
              "    <tr>\n",
              "      <th>226</th>\n",
              "      <td>cecebs kalo lapar nyerangnya ke yang bertanggung jawab ngasih makan selama ppkm ya  jangan sradak sruduk ke sesama netizen dan rakyat  percuma  yg biasa ngasih makan klean lagi gag punya duid  klean nyerang juga gag dibayar u know</td>\n",
              "      <td>2.0</td>\n",
              "      <td>1.0</td>\n",
              "      <td>1.0</td>\n",
              "    </tr>\n",
              "    <tr>\n",
              "      <th>1103</th>\n",
              "      <td>ppkm   perbanyak pergi ke masjid</td>\n",
              "      <td>3.0</td>\n",
              "      <td>4.0</td>\n",
              "      <td>2.0</td>\n",
              "    </tr>\n",
              "    <tr>\n",
              "      <th>1850</th>\n",
              "      <td>@AudistaJ Kami informasikan kembali KRL hanya untuk melayani pekerja di sektor esensial dan kritikal. Bagi #RekanCommuters yang bekerja di sektor non esensial dan non kritikal upayakan bekerja dari rumah. Ayo dukung upaya pemerintah ini untuk menekan penyebaran Covid-19. Tks</td>\n",
              "      <td>0.0</td>\n",
              "      <td>3.0</td>\n",
              "      <td>2.0</td>\n",
              "    </tr>\n",
              "    <tr>\n",
              "      <th>103</th>\n",
              "      <td>&lt;USERNAME&gt; &lt;NUM&gt;  keluarga besar ku sama orang  orang yang aku sayang sehat semuaa &lt;NUM&gt;  sekolah offline &lt;NUM&gt;  pandemi berakhir</td>\n",
              "      <td>3.0</td>\n",
              "      <td>4.0</td>\n",
              "      <td>1.0</td>\n",
              "    </tr>\n",
              "    <tr>\n",
              "      <th>1449</th>\n",
              "      <td>@jilulisme @BuruhYogyakarta @humas_jogja @Jogja24Jam Bisa ditiru nih disurabaya kebetulan jadi panitia,\\n1. Disana kuota 3000\\n2. Buat link pendaftaran untuk google form.\\n3. Kita 3 hari vaksin, perhari 1000\\n4. Kita punya tim 20 untuk balesin WA yg sudah masuk Google form. Jika udah 3000 link kita tutup</td>\n",
              "      <td>1.0</td>\n",
              "      <td>2.0</td>\n",
              "      <td>0.0</td>\n",
              "    </tr>\n",
              "  </tbody>\n",
              "</table>\n",
              "</div>"
            ],
            "text/plain": [
              "                                                                                                                                                                                                                                                                                                                   text  ...  sentiment\n",
              "226                                                                           cecebs kalo lapar nyerangnya ke yang bertanggung jawab ngasih makan selama ppkm ya  jangan sradak sruduk ke sesama netizen dan rakyat  percuma  yg biasa ngasih makan klean lagi gag punya duid  klean nyerang juga gag dibayar u know     ...        1.0\n",
              "1103                                                                                                                                                                                                                                                                                 ppkm   perbanyak pergi ke masjid    ...        2.0\n",
              "1850                                @AudistaJ Kami informasikan kembali KRL hanya untuk melayani pekerja di sektor esensial dan kritikal. Bagi #RekanCommuters yang bekerja di sektor non esensial dan non kritikal upayakan bekerja dari rumah. Ayo dukung upaya pemerintah ini untuk menekan penyebaran Covid-19. Tks  ...        2.0\n",
              "103                                                                                                                                                                                   <USERNAME> <NUM>  keluarga besar ku sama orang  orang yang aku sayang sehat semuaa <NUM>  sekolah offline <NUM>  pandemi berakhir  ...        1.0\n",
              "1449  @jilulisme @BuruhYogyakarta @humas_jogja @Jogja24Jam Bisa ditiru nih disurabaya kebetulan jadi panitia,\\n1. Disana kuota 3000\\n2. Buat link pendaftaran untuk google form.\\n3. Kita 3 hari vaksin, perhari 1000\\n4. Kita punya tim 20 untuk balesin WA yg sudah masuk Google form. Jika udah 3000 link kita tutup  ...        0.0\n",
              "\n",
              "[5 rows x 4 columns]"
            ]
          },
          "metadata": {
            "tags": []
          },
          "execution_count": 15
        }
      ]
    },
    {
      "cell_type": "markdown",
      "metadata": {
        "id": "uqYJENSV0gKW"
      },
      "source": [
        "# Train"
      ]
    },
    {
      "cell_type": "code",
      "metadata": {
        "colab": {
          "base_uri": "https://localhost:8080/",
          "height": 287
        },
        "id": "wHk9Tebh6wC0",
        "outputId": "a8fe0fa4-8b3f-433d-8743-79e6ef200807"
      },
      "source": [
        "df_train.head()"
      ],
      "execution_count": null,
      "outputs": [
        {
          "output_type": "execute_result",
          "data": {
            "text/html": [
              "<div>\n",
              "<style scoped>\n",
              "    .dataframe tbody tr th:only-of-type {\n",
              "        vertical-align: middle;\n",
              "    }\n",
              "\n",
              "    .dataframe tbody tr th {\n",
              "        vertical-align: top;\n",
              "    }\n",
              "\n",
              "    .dataframe thead th {\n",
              "        text-align: right;\n",
              "    }\n",
              "</style>\n",
              "<table border=\"1\" class=\"dataframe\">\n",
              "  <thead>\n",
              "    <tr style=\"text-align: right;\">\n",
              "      <th></th>\n",
              "      <th>text</th>\n",
              "      <th>context</th>\n",
              "      <th>intent</th>\n",
              "      <th>sentiment</th>\n",
              "      <th>Teks_Clean</th>\n",
              "    </tr>\n",
              "  </thead>\n",
              "  <tbody>\n",
              "    <tr>\n",
              "      <th>0</th>\n",
              "      <td>agak miris masih banyak yg ga mau di vaksin  terlebih malah keluarga sendiri   &lt;URL&gt;</td>\n",
              "      <td>1.0</td>\n",
              "      <td>3.0</td>\n",
              "      <td>1.0</td>\n",
              "      <td>miris vaksin keluarga url</td>\n",
              "    </tr>\n",
              "    <tr>\n",
              "      <th>1</th>\n",
              "      <td>malu banget sholat ied pake ada acara mau pingsan segala  takut di sangka covid</td>\n",
              "      <td>3.0</td>\n",
              "      <td>4.0</td>\n",
              "      <td>1.0</td>\n",
              "      <td>malu banget sholat ied pakai acara pingsan takut sangka covid</td>\n",
              "    </tr>\n",
              "    <tr>\n",
              "      <th>2</th>\n",
              "      <td>&lt;USERNAME&gt; &lt;USERNAME&gt; &lt;USERNAME&gt; &lt;USERNAME&gt; &lt;USERNAME&gt; memang ga kena covid pun bisa mati tp ya ikhtiar supaya ga mempersulit diri sendiri dan org sekitar karena kalo wabahnya tersebar ya zolim kan  hadist nabi pun kalo ada wabah di wilayahmu jgn pergi diamlah di tmptmu</td>\n",
              "      <td>2.0</td>\n",
              "      <td>0.0</td>\n",
              "      <td>1.0</td>\n",
              "      <td>username username username username username kena covid mati ya ikhtiar sulit orang kalo wabah sebar ya zolim hadist nabi kalo wabah wilayah pergi diam tmptmu</td>\n",
              "    </tr>\n",
              "    <tr>\n",
              "      <th>3</th>\n",
              "      <td>terus semangat  jaga jarak dan pakai masker karena covid  &lt;NUM&gt; masih ada di sekitar kita ya</td>\n",
              "      <td>3.0</td>\n",
              "      <td>4.0</td>\n",
              "      <td>2.0</td>\n",
              "      <td>semangat jaga jarak pakai masker covid num ya</td>\n",
              "    </tr>\n",
              "    <tr>\n",
              "      <th>4</th>\n",
              "      <td>jadi wadm gak lulus ya ginii  &lt;URL&gt;</td>\n",
              "      <td>3.0</td>\n",
              "      <td>4.0</td>\n",
              "      <td>2.0</td>\n",
              "      <td>wadm lulus ya ginii url</td>\n",
              "    </tr>\n",
              "  </tbody>\n",
              "</table>\n",
              "</div>"
            ],
            "text/plain": [
              "                                                                                                                                                                                                                                                                             text  ...                                                                                                                                                      Teks_Clean\n",
              "0                                                                                                                                                                                            agak miris masih banyak yg ga mau di vaksin  terlebih malah keluarga sendiri   <URL>  ...                                                                                                                                       miris vaksin keluarga url\n",
              "1                                                                                                                                                                                                malu banget sholat ied pake ada acara mau pingsan segala  takut di sangka covid   ...                                                                                                   malu banget sholat ied pakai acara pingsan takut sangka covid\n",
              "2  <USERNAME> <USERNAME> <USERNAME> <USERNAME> <USERNAME> memang ga kena covid pun bisa mati tp ya ikhtiar supaya ga mempersulit diri sendiri dan org sekitar karena kalo wabahnya tersebar ya zolim kan  hadist nabi pun kalo ada wabah di wilayahmu jgn pergi diamlah di tmptmu  ...  username username username username username kena covid mati ya ikhtiar sulit orang kalo wabah sebar ya zolim hadist nabi kalo wabah wilayah pergi diam tmptmu\n",
              "3                                                                                                                                                                                    terus semangat  jaga jarak dan pakai masker karena covid  <NUM> masih ada di sekitar kita ya  ...                                                                                                                   semangat jaga jarak pakai masker covid num ya\n",
              "4                                                                                                                                                                                                                                             jadi wadm gak lulus ya ginii  <URL>  ...                                                                                                                                         wadm lulus ya ginii url\n",
              "\n",
              "[5 rows x 5 columns]"
            ]
          },
          "metadata": {
            "tags": []
          },
          "execution_count": 16
        }
      ]
    },
    {
      "cell_type": "code",
      "metadata": {
        "id": "nkj_9ayW0lDl"
      },
      "source": [
        "text = df_train[\"text\"]\n",
        "context = df_train[\"context\"]\n",
        "sentiment = df_train['sentiment']\n",
        "intent = df_train['intent']"
      ],
      "execution_count": null,
      "outputs": []
    },
    {
      "cell_type": "code",
      "metadata": {
        "colab": {
          "base_uri": "https://localhost:8080/"
        },
        "id": "K8VF2EKL7C9I",
        "outputId": "83771b15-10d0-47f3-d925-c96065e2d849"
      },
      "source": [
        "text"
      ],
      "execution_count": null,
      "outputs": [
        {
          "output_type": "execute_result",
          "data": {
            "text/plain": [
              "0                                                                                                                                                                                                        agak miris masih banyak yg ga mau di vaksin  terlebih malah keluarga sendiri   <URL>\n",
              "1                                                                                                                                                                                                            malu banget sholat ied pake ada acara mau pingsan segala  takut di sangka covid \n",
              "2              <USERNAME> <USERNAME> <USERNAME> <USERNAME> <USERNAME> memang ga kena covid pun bisa mati tp ya ikhtiar supaya ga mempersulit diri sendiri dan org sekitar karena kalo wabahnya tersebar ya zolim kan  hadist nabi pun kalo ada wabah di wilayahmu jgn pergi diamlah di tmptmu\n",
              "3                                                                                                                                                                                                terus semangat  jaga jarak dan pakai masker karena covid  <NUM> masih ada di sekitar kita ya\n",
              "4                                                                                                                                                                                                                                                         jadi wadm gak lulus ya ginii  <URL>\n",
              "                                                                                                                                                ...                                                                                                                                          \n",
              "9035                                         <USERNAME> eh  penghianat tukang gosok gak usah ikutan komen ya  gak ada urusanmu dengan soal ini  vaksin gratis tetap jalan  yang mau cepat dan mampu bayar lebih  silakan vaksin mandiri  udah kekurangan gorengan ya  sana bilang bohir loe  \n",
              "9036    ibuk    mbak mau ibuk masakin apa  walau udah punya kerjaan dan bertahun  tahun merantau  masih aja pertanyaannya sama kayak jaman asrama di masa sekolah  i will always be her lil baby no matter how old i am  mom  i miss you  harusnya flight bisa wfh di rumah tapi ppkm ini lho\n",
              "9037                                       <USERNAME> proning  kalau megap  megap hypoxia  d  dimer tinggi  pake terapi oksigen hiperbarik hbot  tetap tenang  <NUM>   <NUM>  <NUM>  pasien corona sembuh  pake   ngga pake susu beruang  ivermectin dll   yg tidak bermanfaat  sembuh  <URL>\n",
              "9038                                                                   @iimfahima Setuju sekali kak, sedih kadang ketika melihat orang2 terdekat yg katanya beriman tapi masih gak percaya covid yg jelas bisa dibuktikan sungguh sangat meresahkan, g tau lagi harus bagaimana menghadapinya\n",
              "9039                                                                                                                                                                 jangan bingung buat orang tua di masa ppkm kan ada indihome study lebih gampang cari referensi dan belajar sikecil <URL>\n",
              "Name: text, Length: 9040, dtype: object"
            ]
          },
          "metadata": {
            "tags": []
          },
          "execution_count": 18
        }
      ]
    },
    {
      "cell_type": "code",
      "metadata": {
        "id": "HVTzFugj0lFw"
      },
      "source": [
        "from sklearn.feature_extraction.text import CountVectorizer\n",
        "from sklearn.feature_extraction.text import TfidfTransformer\n",
        "from sklearn.linear_model import SGDClassifier\n",
        "from sklearn.pipeline import Pipeline\n",
        "\n",
        "text_clf = Pipeline([\n",
        "    ('vect', CountVectorizer()),\n",
        "    ('tfidf', TfidfTransformer()),\n",
        "    ('clf', SGDClassifier(loss='hinge', penalty='l2',\n",
        "                          alpha=1e-5, random_state=42,\n",
        "                          max_iter=5, tol=None)),\n",
        "])"
      ],
      "execution_count": null,
      "outputs": []
    },
    {
      "cell_type": "code",
      "metadata": {
        "id": "ZX9dd0731TyE",
        "colab": {
          "base_uri": "https://localhost:8080/"
        },
        "outputId": "a8f35ae6-e909-46b4-edf9-2d6f5e0fc248"
      },
      "source": [
        "text.shape[0]"
      ],
      "execution_count": null,
      "outputs": [
        {
          "output_type": "execute_result",
          "data": {
            "text/plain": [
              "9040"
            ]
          },
          "metadata": {
            "tags": []
          },
          "execution_count": 35
        }
      ]
    },
    {
      "cell_type": "code",
      "metadata": {
        "id": "FGcwUiB21WV-",
        "colab": {
          "base_uri": "https://localhost:8080/"
        },
        "outputId": "d5e4cd00-5d88-49d4-8ad6-9a2d3ebf2354"
      },
      "source": [
        "context.shape[0]"
      ],
      "execution_count": null,
      "outputs": [
        {
          "output_type": "execute_result",
          "data": {
            "text/plain": [
              "9040"
            ]
          },
          "metadata": {
            "tags": []
          },
          "execution_count": 36
        }
      ]
    },
    {
      "cell_type": "code",
      "metadata": {
        "id": "zwbYf_Gi0ZVy",
        "colab": {
          "base_uri": "https://localhost:8080/"
        },
        "outputId": "97c1891e-5e8e-40de-d268-9585ade9d8f4"
      },
      "source": [
        "text_clf.fit(text, context)"
      ],
      "execution_count": null,
      "outputs": [
        {
          "output_type": "execute_result",
          "data": {
            "text/plain": [
              "Pipeline(memory=None,\n",
              "         steps=[('vect',\n",
              "                 CountVectorizer(analyzer='word', binary=False,\n",
              "                                 decode_error='strict',\n",
              "                                 dtype=<class 'numpy.int64'>, encoding='utf-8',\n",
              "                                 input='content', lowercase=True, max_df=1.0,\n",
              "                                 max_features=None, min_df=1,\n",
              "                                 ngram_range=(1, 1), preprocessor=None,\n",
              "                                 stop_words=None, strip_accents=None,\n",
              "                                 token_pattern='(?u)\\\\b\\\\w\\\\w+\\\\b',\n",
              "                                 tokenizer=None, vocabulary=Non...\n",
              "                ('clf',\n",
              "                 SGDClassifier(alpha=1e-05, average=False, class_weight=None,\n",
              "                               early_stopping=False, epsilon=0.1, eta0=0.0,\n",
              "                               fit_intercept=True, l1_ratio=0.15,\n",
              "                               learning_rate='optimal', loss='hinge',\n",
              "                               max_iter=5, n_iter_no_change=5, n_jobs=None,\n",
              "                               penalty='l2', power_t=0.5, random_state=42,\n",
              "                               shuffle=True, tol=None, validation_fraction=0.1,\n",
              "                               verbose=0, warm_start=False))],\n",
              "         verbose=False)"
            ]
          },
          "metadata": {
            "tags": []
          },
          "execution_count": 20
        }
      ]
    },
    {
      "cell_type": "markdown",
      "metadata": {
        "id": "dPLWO-YoOC4u"
      },
      "source": [
        "## CONTEXT"
      ]
    },
    {
      "cell_type": "code",
      "metadata": {
        "id": "8a8uJ7eE9iY1"
      },
      "source": [
        "text_test = df_test['text']\n",
        "context_test = df_test['context']"
      ],
      "execution_count": null,
      "outputs": []
    },
    {
      "cell_type": "code",
      "metadata": {
        "id": "RbUTBTOe0gv5",
        "colab": {
          "base_uri": "https://localhost:8080/"
        },
        "outputId": "104524c1-ce4a-4bf6-84a1-d4906b85deb7"
      },
      "source": [
        "predicted = text_clf.predict(text_test)\n",
        "np.mean(predicted == context_test)"
      ],
      "execution_count": null,
      "outputs": [
        {
          "output_type": "execute_result",
          "data": {
            "text/plain": [
              "0.7712389380530974"
            ]
          },
          "metadata": {
            "tags": []
          },
          "execution_count": 22
        }
      ]
    },
    {
      "cell_type": "code",
      "metadata": {
        "id": "swBYvYAt2bSH"
      },
      "source": [
        "CLASSES=[\"Policies\", \"Vaccine\", \"Life\", \"Random\"]"
      ],
      "execution_count": null,
      "outputs": []
    },
    {
      "cell_type": "code",
      "metadata": {
        "id": "MCzxhK-z2wk0",
        "colab": {
          "base_uri": "https://localhost:8080/"
        },
        "outputId": "129a7042-cba7-41f6-dbd2-43ba06538163"
      },
      "source": [
        "from sklearn import metrics\n",
        "print(metrics.classification_report(context_test, predicted,\n",
        "    target_names=CLASSES))"
      ],
      "execution_count": null,
      "outputs": [
        {
          "output_type": "stream",
          "text": [
            "              precision    recall  f1-score   support\n",
            "\n",
            "    Policies       0.58      0.53      0.55       298\n",
            "     Vaccine       0.94      0.95      0.95       577\n",
            "        Life       0.65      0.62      0.63       419\n",
            "      Random       0.77      0.81      0.79       966\n",
            "\n",
            "    accuracy                           0.77      2260\n",
            "   macro avg       0.74      0.73      0.73      2260\n",
            "weighted avg       0.77      0.77      0.77      2260\n",
            "\n"
          ],
          "name": "stdout"
        }
      ]
    },
    {
      "cell_type": "markdown",
      "metadata": {
        "id": "F9e-uaWFOH8K"
      },
      "source": [
        "## Intent"
      ]
    },
    {
      "cell_type": "code",
      "metadata": {
        "colab": {
          "base_uri": "https://localhost:8080/"
        },
        "id": "NmGvpvPIPr7W",
        "outputId": "6d9a03ff-1dc0-456a-8691-d33e8aa2d347"
      },
      "source": [
        "text_clf_intent = Pipeline([\n",
        "    ('vect', CountVectorizer()),\n",
        "    ('tfidf', TfidfTransformer()),\n",
        "    ('clf', SGDClassifier(loss='hinge', penalty='l2',\n",
        "                          alpha=1e-5, random_state=68,\n",
        "                          max_iter=5, tol=None)),\n",
        "])\n",
        "\n",
        "text_clf_intent.fit(text, intent)"
      ],
      "execution_count": null,
      "outputs": [
        {
          "output_type": "execute_result",
          "data": {
            "text/plain": [
              "Pipeline(memory=None,\n",
              "         steps=[('vect',\n",
              "                 CountVectorizer(analyzer='word', binary=False,\n",
              "                                 decode_error='strict',\n",
              "                                 dtype=<class 'numpy.int64'>, encoding='utf-8',\n",
              "                                 input='content', lowercase=True, max_df=1.0,\n",
              "                                 max_features=None, min_df=1,\n",
              "                                 ngram_range=(1, 1), preprocessor=None,\n",
              "                                 stop_words=None, strip_accents=None,\n",
              "                                 token_pattern='(?u)\\\\b\\\\w\\\\w+\\\\b',\n",
              "                                 tokenizer=None, vocabulary=Non...\n",
              "                ('clf',\n",
              "                 SGDClassifier(alpha=1e-05, average=False, class_weight=None,\n",
              "                               early_stopping=False, epsilon=0.1, eta0=0.0,\n",
              "                               fit_intercept=True, l1_ratio=0.15,\n",
              "                               learning_rate='optimal', loss='hinge',\n",
              "                               max_iter=5, n_iter_no_change=5, n_jobs=None,\n",
              "                               penalty='l2', power_t=0.5, random_state=68,\n",
              "                               shuffle=True, tol=None, validation_fraction=0.1,\n",
              "                               verbose=0, warm_start=False))],\n",
              "         verbose=False)"
            ]
          },
          "metadata": {
            "tags": []
          },
          "execution_count": 25
        }
      ]
    },
    {
      "cell_type": "code",
      "metadata": {
        "id": "JUB2ypjbOSnS"
      },
      "source": [
        "text_test = df_test['text']\n",
        "intent_test = df_test['intent']"
      ],
      "execution_count": null,
      "outputs": []
    },
    {
      "cell_type": "code",
      "metadata": {
        "colab": {
          "base_uri": "https://localhost:8080/"
        },
        "id": "Enpus_N9OYgr",
        "outputId": "b538652d-5379-42da-bc13-4a77cc679a20"
      },
      "source": [
        "predicted_intent = text_clf_intent.predict(text_test)\n",
        "np.mean(predicted_intent == intent_test)"
      ],
      "execution_count": null,
      "outputs": [
        {
          "output_type": "execute_result",
          "data": {
            "text/plain": [
              "0.6668141592920354"
            ]
          },
          "metadata": {
            "tags": []
          },
          "execution_count": 27
        }
      ]
    },
    {
      "cell_type": "code",
      "metadata": {
        "id": "cNhDppWWOYno"
      },
      "source": [
        "CLASSES_intent=[\"Opinion\", \"Complaint\", \"Suggestion\", \"News\", \"Random\",\"Inquiries\"]"
      ],
      "execution_count": null,
      "outputs": []
    },
    {
      "cell_type": "code",
      "metadata": {
        "colab": {
          "base_uri": "https://localhost:8080/"
        },
        "id": "JQnYiS4_OYt8",
        "outputId": "7ca4be92-7f6a-42c0-87d0-8fe38fc92254"
      },
      "source": [
        "from sklearn import metrics\n",
        "print(metrics.classification_report(intent_test, predicted_intent,\n",
        "    target_names=CLASSES_intent))"
      ],
      "execution_count": null,
      "outputs": [
        {
          "output_type": "stream",
          "text": [
            "              precision    recall  f1-score   support\n",
            "\n",
            "     Opinion       0.48      0.57      0.52       289\n",
            "   Complaint       0.43      0.33      0.37       220\n",
            "  Suggestion       0.29      0.19      0.23        42\n",
            "        News       0.75      0.74      0.74       822\n",
            "      Random       0.72      0.77      0.74       856\n",
            "   Inquiries       0.33      0.06      0.11        31\n",
            "\n",
            "    accuracy                           0.67      2260\n",
            "   macro avg       0.50      0.44      0.45      2260\n",
            "weighted avg       0.66      0.67      0.66      2260\n",
            "\n"
          ],
          "name": "stdout"
        }
      ]
    },
    {
      "cell_type": "markdown",
      "metadata": {
        "id": "ofo5u0FKONPw"
      },
      "source": [
        "## Sentiment\n"
      ]
    },
    {
      "cell_type": "code",
      "metadata": {
        "colab": {
          "base_uri": "https://localhost:8080/"
        },
        "id": "76wb9ZJ-QYJu",
        "outputId": "a1f2bd1c-57fa-4ba6-cff2-a59117a510ed"
      },
      "source": [
        "text_clf_sentiment = Pipeline([\n",
        "    ('vect', CountVectorizer()),\n",
        "    ('tfidf', TfidfTransformer()),\n",
        "    ('clf', SGDClassifier(loss='hinge', penalty='l2',\n",
        "                          alpha=1e-5, random_state=68,\n",
        "                          max_iter=5, tol=None)),\n",
        "])\n",
        "\n",
        "text_clf_sentiment.fit(text, sentiment)"
      ],
      "execution_count": null,
      "outputs": [
        {
          "output_type": "execute_result",
          "data": {
            "text/plain": [
              "Pipeline(memory=None,\n",
              "         steps=[('vect',\n",
              "                 CountVectorizer(analyzer='word', binary=False,\n",
              "                                 decode_error='strict',\n",
              "                                 dtype=<class 'numpy.int64'>, encoding='utf-8',\n",
              "                                 input='content', lowercase=True, max_df=1.0,\n",
              "                                 max_features=None, min_df=1,\n",
              "                                 ngram_range=(1, 1), preprocessor=None,\n",
              "                                 stop_words=None, strip_accents=None,\n",
              "                                 token_pattern='(?u)\\\\b\\\\w\\\\w+\\\\b',\n",
              "                                 tokenizer=None, vocabulary=Non...\n",
              "                ('clf',\n",
              "                 SGDClassifier(alpha=1e-05, average=False, class_weight=None,\n",
              "                               early_stopping=False, epsilon=0.1, eta0=0.0,\n",
              "                               fit_intercept=True, l1_ratio=0.15,\n",
              "                               learning_rate='optimal', loss='hinge',\n",
              "                               max_iter=5, n_iter_no_change=5, n_jobs=None,\n",
              "                               penalty='l2', power_t=0.5, random_state=68,\n",
              "                               shuffle=True, tol=None, validation_fraction=0.1,\n",
              "                               verbose=0, warm_start=False))],\n",
              "         verbose=False)"
            ]
          },
          "metadata": {
            "tags": []
          },
          "execution_count": 30
        }
      ]
    },
    {
      "cell_type": "code",
      "metadata": {
        "id": "7-U72yVgPQgG"
      },
      "source": [
        "text_test = df_test['text']\n",
        "sentiment_test = df_test['sentiment']"
      ],
      "execution_count": null,
      "outputs": []
    },
    {
      "cell_type": "code",
      "metadata": {
        "colab": {
          "base_uri": "https://localhost:8080/"
        },
        "id": "nEcfdMoNPQn4",
        "outputId": "7c1ac8eb-6e99-4904-a4c7-b2c33ab3f4e3"
      },
      "source": [
        "predicted_sentiment = text_clf_sentiment.predict(text_test)\n",
        "np.mean(predicted_sentiment == sentiment_test)"
      ],
      "execution_count": null,
      "outputs": [
        {
          "output_type": "execute_result",
          "data": {
            "text/plain": [
              "0.7353982300884956"
            ]
          },
          "metadata": {
            "tags": []
          },
          "execution_count": 33
        }
      ]
    },
    {
      "cell_type": "code",
      "metadata": {
        "id": "j8k9Z0CwPQup"
      },
      "source": [
        "CLASSES_sentiment=[\"Positif\",\"Negatif\",\"Netral\"]"
      ],
      "execution_count": null,
      "outputs": []
    },
    {
      "cell_type": "code",
      "metadata": {
        "colab": {
          "base_uri": "https://localhost:8080/"
        },
        "id": "13O2KCZuPQ6I",
        "outputId": "2d61ada3-53ab-4cc3-b45a-b11dae910ecd"
      },
      "source": [
        "from sklearn import metrics\n",
        "print(metrics.classification_report(sentiment_test, predicted_sentiment,\n",
        "    target_names=CLASSES_sentiment))"
      ],
      "execution_count": null,
      "outputs": [
        {
          "output_type": "stream",
          "text": [
            "              precision    recall  f1-score   support\n",
            "\n",
            "     Positif       0.51      0.45      0.48       207\n",
            "     Negatif       0.70      0.74      0.72       776\n",
            "      Netral       0.79      0.78      0.79      1277\n",
            "\n",
            "    accuracy                           0.74      2260\n",
            "   macro avg       0.67      0.66      0.66      2260\n",
            "weighted avg       0.73      0.74      0.73      2260\n",
            "\n"
          ],
          "name": "stdout"
        }
      ]
    },
    {
      "cell_type": "markdown",
      "metadata": {
        "id": "primYcbv276p"
      },
      "source": [
        "## Membuat prediksi"
      ]
    },
    {
      "cell_type": "code",
      "metadata": {
        "id": "xW2Yz6Dx2ZCJ"
      },
      "source": [
        "def predict_context(message):\n",
        "  message_clean = preprocess_final(message)\n",
        "  predicted_label = text_clf.predict([message_clean]).astype(int)\n",
        "  return message, CLASSES[predicted_label[0]]\n",
        "\n",
        "def predict_sentiment(message):\n",
        "  message_clean = preprocess_final(message)\n",
        "  predicted_label = text_clf_sentiment.predict([message_clean]).astype(int)\n",
        "  return message, CLASSES_sentiment[predicted_label[0]]\n",
        "\n",
        "def predict_intent(message):\n",
        "  message_clean = preprocess_final(message)\n",
        "  predicted_label = text_clf_intent.predict([message_clean]).astype(int)\n",
        "  return message, CLASSES_intent[predicted_label[0]]"
      ],
      "execution_count": null,
      "outputs": []
    },
    {
      "cell_type": "code",
      "metadata": {
        "id": "L66UNQ-13D61",
        "colab": {
          "base_uri": "https://localhost:8080/"
        },
        "outputId": "40c77348-c8d6-4f6f-8a6f-7b54000d67b0"
      },
      "source": [
        "predict_context(\"PPKM diperpanjang, daerah Depok melakukan perpanjangan masa PPKM dan akan menutup semua restoran dan tempat wisata lainnya\")"
      ],
      "execution_count": null,
      "outputs": [
        {
          "output_type": "execute_result",
          "data": {
            "text/plain": [
              "('PPKM diperpanjang, daerah Depok melakukan perpanjangan masa PPKM dan akan menutup semua restoran dan tempat wisata lainnya',\n",
              " 'Policies')"
            ]
          },
          "metadata": {
            "tags": []
          },
          "execution_count": 38
        }
      ]
    },
    {
      "cell_type": "code",
      "metadata": {
        "id": "y6DM3OVq3E2l",
        "colab": {
          "base_uri": "https://localhost:8080/"
        },
        "outputId": "908a8300-12a0-452e-b462-b7064b041696"
      },
      "source": [
        "predict_intent(\"PPKM diperpanjang, daerah Depok melakukan perpanjangan masa PPKM dan akan menutup semua restoran dan tempat wisata lainnya\")"
      ],
      "execution_count": null,
      "outputs": [
        {
          "output_type": "execute_result",
          "data": {
            "text/plain": [
              "('PPKM diperpanjang, daerah Depok melakukan perpanjangan masa PPKM dan akan menutup semua restoran dan tempat wisata lainnya',\n",
              " 'News')"
            ]
          },
          "metadata": {
            "tags": []
          },
          "execution_count": 39
        }
      ]
    },
    {
      "cell_type": "code",
      "metadata": {
        "colab": {
          "base_uri": "https://localhost:8080/"
        },
        "id": "AOLs2V-ORyLW",
        "outputId": "74040aeb-008c-4343-948a-7d179298ca53"
      },
      "source": [
        "predict_sentiment(\"PPKM diperpanjang, daerah Depok melakukan perpanjangan masa PPKM dan akan menutup semua restoran dan tempat wisata lainnya\")"
      ],
      "execution_count": null,
      "outputs": [
        {
          "output_type": "execute_result",
          "data": {
            "text/plain": [
              "('PPKM diperpanjang, daerah Depok melakukan perpanjangan masa PPKM dan akan menutup semua restoran dan tempat wisata lainnya',\n",
              " 'Netral')"
            ]
          },
          "metadata": {
            "tags": []
          },
          "execution_count": 40
        }
      ]
    },
    {
      "cell_type": "code",
      "metadata": {
        "colab": {
          "base_uri": "https://localhost:8080/"
        },
        "id": "l7MmQL4eh2KY",
        "outputId": "24a68b8b-d5d0-45e6-c7cd-8169c569feff"
      },
      "source": [
        "predict_context(\"WOI PPKM KAYAK ANJING TAUGA, gw udah bosen dirumah, udah PSBB sekarang malah PPKM anjir, kayak Kontol cape gw di rumah terus mau main bareng temenlah\")"
      ],
      "execution_count": null,
      "outputs": [
        {
          "output_type": "execute_result",
          "data": {
            "text/plain": [
              "('WOI PPKM KAYAK ANJING TAUGA, gw udah bosen dirumah, udah PSBB sekarang malah PPKM anjir, kayak Kontol cape gw di rumah terus mau main bareng temenlah',\n",
              " 'Life')"
            ]
          },
          "metadata": {
            "tags": []
          },
          "execution_count": 42
        }
      ]
    },
    {
      "cell_type": "code",
      "metadata": {
        "colab": {
          "base_uri": "https://localhost:8080/"
        },
        "id": "-K1HUam3iM9z",
        "outputId": "1eb13d2d-eabf-4137-e750-c8871b1629b8"
      },
      "source": [
        "predict_intent(\"WOI PPKM KAYAK ANJING TAUGA, gw udah bosen dirumah, udah PSBB sekarang malah PPKM anjir, kayak Kontol cape gw di rumah terus mau main bareng temenlah\")"
      ],
      "execution_count": null,
      "outputs": [
        {
          "output_type": "execute_result",
          "data": {
            "text/plain": [
              "('WOI PPKM KAYAK ANJING TAUGA, gw udah bosen dirumah, udah PSBB sekarang malah PPKM anjir, kayak Kontol cape gw di rumah terus mau main bareng temenlah',\n",
              " 'Complaint')"
            ]
          },
          "metadata": {
            "tags": []
          },
          "execution_count": 43
        }
      ]
    },
    {
      "cell_type": "code",
      "metadata": {
        "colab": {
          "base_uri": "https://localhost:8080/"
        },
        "id": "iscOro2JiNG9",
        "outputId": "691000eb-a0c4-476a-dd77-801dbf743a4f"
      },
      "source": [
        "predict_sentiment(\"WOI PPKM KAYAK ANJING TAUGA, gw udah bosen dirumah, udah PSBB sekarang malah PPKM anjir, kayak Kontol cape gw di rumah terus mau main bareng temenlah\")"
      ],
      "execution_count": null,
      "outputs": [
        {
          "output_type": "execute_result",
          "data": {
            "text/plain": [
              "('WOI PPKM KAYAK ANJING TAUGA, gw udah bosen dirumah, udah PSBB sekarang malah PPKM anjir, kayak Kontol cape gw di rumah terus mau main bareng temenlah',\n",
              " 'Netral')"
            ]
          },
          "metadata": {
            "tags": []
          },
          "execution_count": 45
        }
      ]
    }
  ]
}